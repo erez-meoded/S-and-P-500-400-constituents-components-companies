{
 "cells": [
  {
   "cell_type": "code",
   "execution_count": null,
   "metadata": {
    "collapsed": true
   },
   "outputs": [],
   "source": [
    "import numpy as np\n",
    "import pandas as pd\n",
    "from bs4 import BeautifulSoup\n",
    "import requests"
   ]
  },
  {
   "cell_type": "code",
   "execution_count": null,
   "metadata": {
    "collapsed": true
   },
   "outputs": [],
   "source": [
    "# S&P 500 from wikipedia to csv file\n",
    "\n",
    "url = 'https://en.wikipedia.org/wiki/List_of_S%26P_500_companies'\n",
    "result = requests.get(url)\n",
    "c = result.content\n",
    "bs = BeautifulSoup(c,'lxml')\n",
    "table = str(bs.find('table',{'class':'wikitable sortable'}))\n",
    "snp500 = pd.read_html(table)[0]\n",
    "snp500.columns = snp500.iloc[0]\n",
    "snp500.drop(0,inplace=True)\n",
    "snp500.set_index('Ticker symbol',inplace=True)\n",
    "snp500.sort_index(0,inplace=True)\n",
    "snp500.to_csv('snp500.csv')\n",
    "snp500"
   ]
  },
  {
   "cell_type": "code",
   "execution_count": null,
   "metadata": {
    "collapsed": true
   },
   "outputs": [],
   "source": [
    "# S&P 400 from wikipedia to csv file\n",
    "\n",
    "url = 'https://en.wikipedia.org/wiki/List_of_S%26P_400_companies'\n",
    "result = requests.get(url)\n",
    "c = result.content\n",
    "bs = BeautifulSoup(c,'lxml')\n",
    "table = str(bs.find('table',{'class':'wikitable sortable'}))\n",
    "snp400 = pd.read_html(table)[0]\n",
    "snp400.columns = snp400.iloc[0]\n",
    "snp400.drop(0,inplace=True)\n",
    "snp400.set_index('Ticker Symbol',inplace=True)\n",
    "snp400.sort_index(0,inplace=True)\n",
    "snp400.to_csv('snp400.csv')\n",
    "snp400"
   ]
  }
 ],
 "metadata": {
  "kernelspec": {
   "display_name": "Python 3",
   "language": "python",
   "name": "python3"
  },
  "language_info": {
   "codemirror_mode": {
    "name": "ipython",
    "version": 3
   },
   "file_extension": ".py",
   "mimetype": "text/x-python",
   "name": "python",
   "nbconvert_exporter": "python",
   "pygments_lexer": "ipython3",
   "version": "3.6.3"
  }
 },
 "nbformat": 4,
 "nbformat_minor": 2
}
