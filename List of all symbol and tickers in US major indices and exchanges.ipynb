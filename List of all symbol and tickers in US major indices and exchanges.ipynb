{
 "cells": [
  {
   "cell_type": "markdown",
   "metadata": {},
   "source": [
    "# List of all symbol / tickers in US's major indices and exchanges\n",
    "\n",
    "In this notebook you can get the list of all constituents / components and tickers in S&P500, S&P400, Dow Jones and NASDAQ100\n",
    "Retrieved from wikipedia and Nasdaq websites\n",
    "\n",
    "You'll get a dictionary with dataframes and csv files"
   ]
  },
  {
   "cell_type": "code",
   "execution_count": 1,
   "metadata": {
    "collapsed": true
   },
   "outputs": [],
   "source": [
    "import numpy as np\n",
    "import pandas as pd\n",
    "from bs4 import BeautifulSoup\n",
    "import requests"
   ]
  },
  {
   "cell_type": "markdown",
   "metadata": {},
   "source": [
    "## Get components / constituents of indices"
   ]
  },
  {
   "cell_type": "code",
   "execution_count": 2,
   "metadata": {
    "collapsed": true
   },
   "outputs": [],
   "source": [
    "#this code is stable as long as the following addresses are not being changed and thier structure not change\n",
    "urls = {'SNP500':'https://en.wikipedia.org/wiki/List_of_S%26P_500_companies',\n",
    "'SNP400':'https://en.wikipedia.org/wiki/List_of_S%26P_400_companies',\n",
    "'DJ':'https://en.wikipedia.org/wiki/Dow_Jones_Industrial_Average',\n",
    "'NASDAQ100':'http://www.nasdaq.com/quotes/nasdaq-100-stocks.aspx?render=download'}\n",
    "indices = {}\n",
    "for url in urls:\n",
    "    if url == 'NASDAQ100':\n",
    "        df = pd.read_csv(urls[url],usecols=[0,1],header=0)\n",
    "        df.columns = ['Symbol','Name']\n",
    "    else:\n",
    "        result = requests.get(urls[url])\n",
    "        c = result.content\n",
    "        bs = BeautifulSoup(c,'lxml')\n",
    "        table = str(bs.find('table',{'class':'wikitable sortable'}))\n",
    "        df = pd.read_html(table)[0]\n",
    "        df.columns = df.iloc[0] #set the first row as columns header\n",
    "        df.drop(0,inplace=True) #drop the first row\n",
    "        if url == 'DJ' :\n",
    "            df = df[['Symbol','Company']]\n",
    "            df.columns = ['Symbol','Name']\n",
    "        elif url =='SNP500':\n",
    "            df = df[['Ticker symbol','Security','CIK']]\n",
    "            df.columns = ['Symbol','Name','cik']\n",
    "        else:\n",
    "            df = df[['Ticker Symbol','Company']]\n",
    "            df.columns = ['Symbol','Name']\n",
    "    df = df.rename(columns={'Symbol':'symbol','Name':'name'})\n",
    "    df.to_csv(url + '.csv',index=False, encoding='utf-8')\n",
    "    indices[url] = df.reset_index(drop=True)"
   ]
  },
  {
   "cell_type": "markdown",
   "metadata": {},
   "source": [
    "## Get symbols of major exchanges in US\n",
    "\n",
    "You'll get a dictionaty of dataframes, merged dataframe and csv files"
   ]
  },
  {
   "cell_type": "code",
   "execution_count": 3,
   "metadata": {
    "collapsed": true
   },
   "outputs": [],
   "source": [
    "urls = {'NYSE':'http://www.nasdaq.com/screening/companies-by-industry.aspx?exchange=NYSE&render=download',\n",
    "'AMEX':'http://www.nasdaq.com/screening/companies-by-industry.aspx?exchange=AMEX&render=download',\n",
    "'NASDAQ':'http://www.nasdaq.com/screening/companies-by-industry.aspx?exchange=NASDAQ&render=download'}\n",
    "exchanges = {i:pd.read_csv(urls[i],usecols=[0,1],header=0) for i in urls}"
   ]
  },
  {
   "cell_type": "code",
   "execution_count": 4,
   "metadata": {
    "collapsed": true
   },
   "outputs": [],
   "source": [
    "merged_exchanges = pd.DataFrame(columns=['Symbol'])\n",
    "for i in exchanges:\n",
    "    exchanges[i].columns = ['Symbol',i+'Name']\n",
    "    exchanges[i].to_csv(i + '.csv',index=False, encoding='utf-8')\n",
    "    merged_exchanges = merged_exchanges.merge(exchanges[i],'outer',['Symbol'], sort=True).fillna('')\n",
    "merged_exchanges.to_csv('merged_exchanges.csv',index=False, encoding='utf-8')"
   ]
  },
  {
   "cell_type": "code",
   "execution_count": null,
   "metadata": {
    "collapsed": true
   },
   "outputs": [],
   "source": []
  }
 ],
 "metadata": {
  "kernelspec": {
   "display_name": "Python 3",
   "language": "python",
   "name": "python3"
  },
  "language_info": {
   "codemirror_mode": {
    "name": "ipython",
    "version": 3
   },
   "file_extension": ".py",
   "mimetype": "text/x-python",
   "name": "python",
   "nbconvert_exporter": "python",
   "pygments_lexer": "ipython3",
   "version": "3.6.3"
  }
 },
 "nbformat": 4,
 "nbformat_minor": 2
}
